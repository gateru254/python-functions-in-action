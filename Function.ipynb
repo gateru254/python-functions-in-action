{
 "cells": [
  {
   "cell_type": "markdown",
   "id": "c7e21362-4201-4e39-b1dd-f52a8495cabe",
   "metadata": {},
   "source": [
    "## Exercises: Level 1\n",
    " 1. Declare a function add_two_numbers. It takes two parameters and it returns a sum.\n",
    " 2. Area of a circle is calculated as follows: area = π x r x r. Write a function that calculates area_of_circle.\n",
    " 3. Write a function called add_all_nums which takes arbitrary number of arguments and sums all the arguments. Check if all the list items are number types. If not do give a reasonable feedback.\n",
    " 4. Temperature in °C can be converted to °F using this formula: °F = (°C x 9/5) + 32. Write a function which converts °C to °F, convert_celsius_to-fahrenheit.\n",
    " 5. Write a function called check-season, it takes a month parameter and returns the season: Autumn, Winter, Spring or Summer.\n",
    " 6. Write a function called calculate_slope which return the slope of a linear equation\n",
    " 7. Quadratic equation is calculated as follows: ax² + bx + c = 0. Write a function which calculates solution set of a quadratic equation, solve_quadratic_eqn.\n",
    " 8. Declare a function named print_list. It takes a list as a parameter and it prints out each element of the list.\n",
    " 9. Declare a function named reverse_list. It takes an array as a parameter and it returns the reverse of the array (use loops).\n",
    "\n"
   ]
  },
  {
   "cell_type": "code",
   "execution_count": 20,
   "id": "e870a0f0-8f78-46e7-a7e4-be59a1cf2200",
   "metadata": {},
   "outputs": [
    {
     "name": "stdout",
     "output_type": "stream",
     "text": [
      "5\n"
     ]
    }
   ],
   "source": [
    "# 1 Declare a function add_two_numbers. It takes two paremeters and it returns a sum .\n",
    "a=2\n",
    "b=3\n",
    "def number():\n",
    "    number= (a+b)\n",
    "    print(number)\n",
    "number()\n",
    "    "
   ]
  },
  {
   "cell_type": "code",
   "execution_count": 22,
   "id": "88a93f41-9374-4476-8a80-7b19baa1681b",
   "metadata": {},
   "outputs": [
    {
     "data": {
      "text/plain": [
       "5"
      ]
     },
     "execution_count": 22,
     "metadata": {},
     "output_type": "execute_result"
    }
   ],
   "source": [
    "#Method 2\n",
    "# Declare a function add_two_numbers .It takes two parameters and it returns a sum \n",
    "def add_num(a,b):\n",
    "    return(a+b)\n",
    "add_num(a,b)    "
   ]
  },
  {
   "cell_type": "code",
   "execution_count": 28,
   "id": "0e7520f8-b1cb-4104-8103-606c6b773b28",
   "metadata": {},
   "outputs": [
    {
     "name": "stdin",
     "output_type": "stream",
     "text": [
      "Enter a number 3\n",
      "Enter  a value 5\n"
     ]
    },
    {
     "name": "stdout",
     "output_type": "stream",
     "text": [
      "The sum is: 8.0\n"
     ]
    }
   ],
   "source": [
    "#Method 3\n",
    "def add_number():\n",
    "    value1 = int(input(\"Enter a number\"))\n",
    "    value2 = float(input(\"Enter  a value\"))\n",
    "    return (value1+ value2)\n",
    "result=add_number()  \n",
    "print(f\"The sum is: {result}\")\n",
    "    \n",
    "    "
   ]
  },
  {
   "cell_type": "code",
   "execution_count": 44,
   "id": "27b579ad-561b-4dc7-8ffa-edf3fde46b11",
   "metadata": {},
   "outputs": [
    {
     "name": "stdin",
     "output_type": "stream",
     "text": [
      "Enter a radius 9\n"
     ]
    },
    {
     "name": "stdout",
     "output_type": "stream",
     "text": [
      "Area of a circle: 254.50199999999998\n"
     ]
    }
   ],
   "source": [
    "# Area of a circle is calculated as follows: area = π x r x r. Write a function that calculates area_of_circle.\n",
    "π=3.142\n",
    "r = float(input(\"Enter a radius\"))\n",
    "def area_of_circle ():\n",
    "    return (π*r**2)\n",
    "areacircle= area_of_circle()    \n",
    "print(f\"Area of a circle: { areacircle}\")\n"
   ]
  },
  {
   "cell_type": "code",
   "execution_count": 56,
   "id": "53231e34-a804-456f-8db7-21853309e642",
   "metadata": {},
   "outputs": [
    {
     "data": {
      "text/plain": [
       "int"
      ]
     },
     "execution_count": 56,
     "metadata": {},
     "output_type": "execute_result"
    }
   ],
   "source": [
    "#Write a function called add_all_nums which takes arbitrary number of arguments and sums all the arguments. \n",
    "#Check if all the list items are number types. If not do give a reasonable feedback\n",
    "\n",
    "def add_all_nums(*args):\n",
    "    return sum(args)\n",
    "num=add_all_nums(89,88,44,678) \n",
    "num\n",
    "type(num)    \n",
    "    \n",
    "    "
   ]
  },
  {
   "cell_type": "code",
   "execution_count": 78,
   "id": "3b3242dd-e06d-43c6-8ed4-0a0bdac7a6e6",
   "metadata": {},
   "outputs": [
    {
     "data": {
      "text/plain": [
       "dict"
      ]
     },
     "execution_count": 78,
     "metadata": {},
     "output_type": "execute_result"
    }
   ],
   "source": [
    "#using kwargs\n",
    "def add_all_number(**kwargs):\n",
    "    return (kwargs)\n",
    "number=add_all_number(name ='kelvin', age1=77, name1= 'Yusuf',age2=33,name2='Kate' ,age3=44)\n",
    "number\n",
    "type(number)"
   ]
  },
  {
   "cell_type": "code",
   "execution_count": 107,
   "id": "85fc9792-6b11-4e77-8a44-4fd4072e8c6c",
   "metadata": {},
   "outputs": [
    {
     "name": "stdin",
     "output_type": "stream",
     "text": [
      "Enter degree 890\n"
     ]
    },
    {
     "name": "stdout",
     "output_type": "stream",
     "text": [
      "fahrenheit = 1634.0\n"
     ]
    }
   ],
   "source": [
    "#Temperature in °C can be converted to °F using this formula: °F = (°C x 9/5) + 32. \n",
    "#Write a function which converts °C to °F, convert_celsius_to-fahrenheit.\n",
    "degree = float(input(\"Enter degree\"))\n",
    "def temp():\n",
    "    return (degree* 9/5) + 32\n",
    "temperature = temp()\n",
    "print(f\"fahrenheit = {temperature}\")\n",
    "\n",
    "\n",
    "\n"
   ]
  },
  {
   "cell_type": "code",
   "execution_count": 49,
   "id": "4eaa97c8-5524-4715-847b-2ffafd4ccdbc",
   "metadata": {},
   "outputs": [
    {
     "name": "stdin",
     "output_type": "stream",
     "text": [
      "Enter Month               january\n"
     ]
    },
    {
     "name": "stdout",
     "output_type": "stream",
     "text": [
      " The month January is in Winter season.\n"
     ]
    }
   ],
   "source": [
    "#question 5\n",
    "# Write a function called check-season, it takes a month parameter and returns the season: Autumn, Winter, Spring or Summer.\n",
    "month=input(\"Enter Month\").strip().title()\n",
    "Autumn = (\"September\",\"October\",\"November\")\n",
    "Winter =(\"December\",\"January\",\"February\")\n",
    "Spring =(\"March\",\"April\",\"May\")\n",
    "Summer =(\"June\",\"July\",\"August\")\n",
    "def check_season ():\n",
    "    if month in (\"September\",\"October\",\"November\"):\n",
    "        return \"Autumn\"\n",
    "    elif month in  (\"December\",\"January\",\"February\"):\n",
    "        return \"Winter\"\n",
    "    elif month in (\"March\",\"April\",\"May\"):\n",
    "        return \"Spring\"\n",
    "    elif month in (\"June\",\"July\",\"August\"):\n",
    "        return \"Summer\"\n",
    "    else:  return \"invalid\"\n",
    "#check_season()\n",
    "month_season = check_season()\n",
    "print(f\" The month {month} is in {month_season} season.\")"
   ]
  },
  {
   "cell_type": "code",
   "execution_count": 113,
   "id": "21206226-9b6b-4024-809a-e9bbf1dc01b9",
   "metadata": {},
   "outputs": [
    {
     "name": "stdout",
     "output_type": "stream",
     "text": [
      "['January', 'February', 'March', 'April', 'May', 'June', 'July', 'August', 'September', 'October', 'November', 'December']\n"
     ]
    }
   ],
   "source": [
    "import calendar\n",
    "def get_all_month():\n",
    "    return list(calendar.month_name)[1:]\n",
    "print (get_all_month())"
   ]
  },
  {
   "cell_type": "code",
   "execution_count": 9,
   "id": "b84d4563-07b7-41c7-9908-ffd65322c120",
   "metadata": {},
   "outputs": [],
   "source": [
    "name = \"kelvin\"\n",
    "age = 22"
   ]
  },
  {
   "cell_type": "code",
   "execution_count": 17,
   "id": "924efa90-96ee-4ece-90bf-237c569efbcf",
   "metadata": {},
   "outputs": [
    {
     "name": "stdin",
     "output_type": "stream",
     "text": [
      "Enter name kate\n",
      "Enter Age 22\n"
     ]
    },
    {
     "data": {
      "text/plain": [
       "'My name is kate, and am 22 years old'"
      ]
     },
     "execution_count": 17,
     "metadata": {},
     "output_type": "execute_result"
    }
   ],
   "source": [
    "def status():\n",
    "    name=input(\"Enter name\")\n",
    "    age =int(input(\"Enter Age\"))\n",
    "    return(f\"My name is {name}, and am {age} years old\")\n",
    "status()"
   ]
  },
  {
   "cell_type": "code",
   "execution_count": 2,
   "id": "625e6803-cde5-474c-8648-b386853d2238",
   "metadata": {},
   "outputs": [
    {
     "name": "stdin",
     "output_type": "stream",
     "text": [
      "Enter Revenue 567\n",
      "enter cost 89\n"
     ]
    },
    {
     "name": "stdout",
     "output_type": "stream",
     "text": [
      "this is my profit 478.0\n"
     ]
    }
   ],
   "source": [
    "revenue=float(input(\"Enter Revenue\"))\n",
    "cost=float(input(\"enter cost\"))\n",
    "def profit():\n",
    "    return (revenue-cost)\n",
    "print(f\"this is my profit {profit()}\")"
   ]
  },
  {
   "cell_type": "code",
   "execution_count": null,
   "id": "d077780a-c6cf-48b4-b01e-dd19b06bdea2",
   "metadata": {},
   "outputs": [
    {
     "name": "stdin",
     "output_type": "stream",
     "text": [
      "Enter distance in km 20\n",
      "Enter time in hrs 1\n"
     ]
    },
    {
     "name": "stdout",
     "output_type": "stream",
     "text": [
      "The speed is 20.0 km/hr\n"
     ]
    }
   ],
   "source": [
    "def speed():\n",
    "    distance=int(input(\"Enter distance in km\"))\n",
    "    time=int(input(\"Enter time in hrs\"))\n",
    "    return (distance/time)\n",
    "print(f\"The speed is {speed()} km/hr\")\n",
    "\n",
    "\n",
    "    "
   ]
  },
  {
   "cell_type": "code",
   "execution_count": 7,
   "id": "b6123695-3e8f-4b48-9b47-5154b9777da9",
   "metadata": {},
   "outputs": [
    {
     "name": "stdin",
     "output_type": "stream",
     "text": [
      "Enter distance in km 30\n",
      "Enter time in hrs 1\n"
     ]
    },
    {
     "name": "stdout",
     "output_type": "stream",
     "text": [
      "The speed is 30.0 km/hr\n"
     ]
    },
    {
     "name": "stdin",
     "output_type": "stream",
     "text": [
      "Enter distance in km 30\n",
      "Enter time in hrs 1\n"
     ]
    },
    {
     "name": "stdout",
     "output_type": "stream",
     "text": [
      "<class 'float'>\n"
     ]
    }
   ],
   "source": [
    "def speed():\n",
    "    distance=int(input(\"Enter distance in km\"))\n",
    "    time=int(input(\"Enter time in hrs\"))\n",
    "    return (distance/time)\n",
    "print(f\"The speed is {speed()} km/hr\")\n",
    "print(type(speed()))"
   ]
  },
  {
   "cell_type": "code",
   "execution_count": 13,
   "id": "2513c9b4-80f4-4582-8ef1-4db34f55d63d",
   "metadata": {},
   "outputs": [
    {
     "name": "stdin",
     "output_type": "stream",
     "text": [
      "Enter time in hrs 2\n",
      "Enter speed 30\n"
     ]
    },
    {
     "data": {
      "text/plain": [
       "' Distance is : 60'"
      ]
     },
     "execution_count": 13,
     "metadata": {},
     "output_type": "execute_result"
    }
   ],
   "source": [
    "def distance():\n",
    "    time = int(input(\"Enter time in hrs\"))\n",
    "    speed= int(input(\"Enter speed\"))\n",
    "    return( f\" Distance is : {time*speed}\")\n",
    "distance()    "
   ]
  },
  {
   "cell_type": "code",
   "execution_count": 15,
   "id": "b5c94880-868d-4bde-b18e-038310eb62b4",
   "metadata": {},
   "outputs": [
    {
     "name": "stdout",
     "output_type": "stream",
     "text": [
      "Hello world\n"
     ]
    }
   ],
   "source": [
    "capitalize = lambda text: text.capitalize()\n",
    "print(capitalize(\"hello world\")) \n"
   ]
  },
  {
   "cell_type": "code",
   "execution_count": 63,
   "id": "a20a228c-c9a4-4272-9796-1aa25ec2b156",
   "metadata": {},
   "outputs": [
    {
     "name": "stdin",
     "output_type": "stream",
     "text": [
      "Enter the value of y 6\n",
      "Enter the value of b 2\n",
      "Enter the value of x 1\n"
     ]
    },
    {
     "name": "stdout",
     "output_type": "stream",
     "text": [
      "the Slope is 4.0\n"
     ]
    }
   ],
   "source": [
    "#  question 6 Write a function called calculate_slope which return the slope of a linear equation.\n",
    "# y =mx+b   where  m = slope ,y= dependent variable so to find m \n",
    "# so our function is m = (y-b)/x\n",
    "y=int(input(\"Enter the value of y\"))\n",
    "b=int(input(\"Enter the value of b\"))\n",
    "x= int(input(\"Enter the value of x\"))\n",
    "def calculate_slope ():\n",
    "    return (y-b)/x\n",
    "print(f\"the Slope is {calculate_slope()}\")   \n",
    "     "
   ]
  },
  {
   "cell_type": "code",
   "execution_count": null,
   "id": "0e50fc0d-2640-407b-a7e0-3ebceb862178",
   "metadata": {},
   "outputs": [],
   "source": [
    "# Quadratic equation is calculated as follows: ax² + bx + c = 0. Write a function which calculates solution set of a quadratic equation, solve_quadratic_eqn\n",
    " def quadratic_eqn():\n",
    "     "
   ]
  },
  {
   "cell_type": "code",
   "execution_count": 65,
   "id": "c1612134-7056-4af5-ac07-9598a5e42c33",
   "metadata": {},
   "outputs": [
    {
     "data": {
      "text/plain": [
       "['Eraser', 'Book', 'Pen', 'Ruler', 'Paper', 'File', 'Manilla paper']"
      ]
     },
     "execution_count": 65,
     "metadata": {},
     "output_type": "execute_result"
    }
   ],
   "source": [
    "# Declare a function named print_list. It takes a list as a parameter and it prints out each element of the list.\n",
    "# Solution \n",
    "#the key thing here is to create a list \n",
    "\n",
    "#mylist=list(input(\"enter a list\"))\n",
    "Stationery=['Eraser','Book','Pen','Ruler','Paper','File','Manilla paper']\n",
    "def print_list():\n",
    "    return Stationery\n",
    "print_list()    "
   ]
  },
  {
   "cell_type": "code",
   "execution_count": 78,
   "id": "1cbb507b-f898-4553-a83a-6e74420af5f4",
   "metadata": {},
   "outputs": [
    {
     "name": "stdin",
     "output_type": "stream",
     "text": [
      "enter value Eraser,Book,Pen,Ruler,Paper,File\n"
     ]
    },
    {
     "data": {
      "text/plain": [
       "['Eraser,Book,Pen,Ruler,Paper,File']"
      ]
     },
     "execution_count": 78,
     "metadata": {},
     "output_type": "execute_result"
    }
   ],
   "source": [
    "def print_list():\n",
    "    my_list=list(input(\"enter value\").split('  '))\n",
    "    return my_list\n",
    "print_list()\n",
    "#type(print_list()"
   ]
  },
  {
   "cell_type": "code",
   "execution_count": null,
   "id": "9ed57d79-1565-4c5e-97a6-361f442423b3",
   "metadata": {},
   "outputs": [],
   "source": [
    "#Declare a function named reverse_list. It takes an array as a parameter and it returns the reverse of the array (use loops)\n",
    "def reverse_list"
   ]
  }
 ],
 "metadata": {
  "kernelspec": {
   "display_name": "Python [conda env:base] *",
   "language": "python",
   "name": "conda-base-py"
  },
  "language_info": {
   "codemirror_mode": {
    "name": "ipython",
    "version": 3
   },
   "file_extension": ".py",
   "mimetype": "text/x-python",
   "name": "python",
   "nbconvert_exporter": "python",
   "pygments_lexer": "ipython3",
   "version": "3.12.7"
  }
 },
 "nbformat": 4,
 "nbformat_minor": 5
}
